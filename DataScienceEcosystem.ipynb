{
 "cells": [
  {
   "cell_type": "markdown",
   "id": "0e39fbf5",
   "metadata": {},
   "source": [
    "# Data Science Tools and Ecosystem"
   ]
  },
  {
   "cell_type": "markdown",
   "id": "881861c1",
   "metadata": {},
   "source": [
    "## In this notebook, Data science Tools and Ecosystem are summarized."
   ]
  },
  {
   "cell_type": "markdown",
   "id": "0cd87603",
   "metadata": {},
   "source": [
    "### some of the popular languages that data science use are :\n",
    "1. R\n",
    "2. Python\n",
    "3. Julia\n",
    "4. Java\n",
    "5. SQL\n",
    "6. Scala"
   ]
  },
  {
   "cell_type": "markdown",
   "id": "9bf9f5d4",
   "metadata": {},
   "source": [
    "### Some of the most common libraries used by Data scientists include:\n",
    "1. Pandas \n",
    "2. Numpy\n",
    "3. Seaborn \n",
    "4. Scikit learn"
   ]
  },
  {
   "cell_type": "markdown",
   "id": "400d31d2",
   "metadata": {},
   "source": [
    "|Data Science Tools|\n",
    "---------------\n",
    "|Anaconda|\n",
    "|IBM Watson|\n",
    "|Google Colab|"
   ]
  },
  {
   "cell_type": "code",
   "execution_count": 4,
   "id": "b060e0df",
   "metadata": {},
   "outputs": [
    {
     "data": {
      "text/plain": [
       "17"
      ]
     },
     "execution_count": 4,
     "metadata": {},
     "output_type": "execute_result"
    }
   ],
   "source": [
    "#This a simple arithmetic expression to multiply then add integers\n",
    "(3*4)+5"
   ]
  },
  {
   "cell_type": "markdown",
   "id": "e00d8c1e",
   "metadata": {},
   "source": [
    "### Below are a few examples of evaluating arithmetic expressions in python\n",
    "1. Addition\n",
    "2. Sustraction\n",
    "3. Multiplication\n",
    "4. Division\n",
    "5. modulus"
   ]
  },
  {
   "cell_type": "code",
   "execution_count": 5,
   "id": "da6f7b47",
   "metadata": {},
   "outputs": [
    {
     "data": {
      "text/plain": [
       "3.3333333333333335"
      ]
     },
     "execution_count": 5,
     "metadata": {},
     "output_type": "execute_result"
    }
   ],
   "source": [
    "#This will convert 200 minutes to hours by dividing by 60.\n",
    "200/60"
   ]
  },
  {
   "cell_type": "markdown",
   "id": "6545dd26",
   "metadata": {},
   "source": [
    "## Objectives\n",
    "- List of popular languages used for Data Science.\n",
    "- List of arithmetic operations.\n",
    "- Created a table\n",
    "- Common libraries used in Data Science."
   ]
  },
  {
   "cell_type": "markdown",
   "id": "2c34f492",
   "metadata": {},
   "source": [
    "## Author\n",
    "Hasan Ahmed"
   ]
  },
  {
   "cell_type": "code",
   "execution_count": null,
   "id": "2d97c611",
   "metadata": {},
   "outputs": [],
   "source": []
  },
  {
   "cell_type": "code",
   "execution_count": null,
   "id": "b7852b91",
   "metadata": {},
   "outputs": [],
   "source": []
  },
  {
   "cell_type": "code",
   "execution_count": null,
   "id": "e70bf689",
   "metadata": {},
   "outputs": [],
   "source": []
  },
  {
   "cell_type": "code",
   "execution_count": null,
   "id": "f568bd5a",
   "metadata": {},
   "outputs": [],
   "source": []
  },
  {
   "cell_type": "code",
   "execution_count": null,
   "id": "1db35109",
   "metadata": {},
   "outputs": [],
   "source": []
  }
 ],
 "metadata": {
  "kernelspec": {
   "display_name": "Python 3 (ipykernel)",
   "language": "python",
   "name": "python3"
  },
  "language_info": {
   "codemirror_mode": {
    "name": "ipython",
    "version": 3
   },
   "file_extension": ".py",
   "mimetype": "text/x-python",
   "name": "python",
   "nbconvert_exporter": "python",
   "pygments_lexer": "ipython3",
   "version": "3.9.13"
  }
 },
 "nbformat": 4,
 "nbformat_minor": 5
}
